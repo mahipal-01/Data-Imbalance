{
 "cells": [
  {
   "cell_type": "code",
   "execution_count": 2,
   "id": "f5685518-cfd6-42b8-88b8-a1c893810a23",
   "metadata": {},
   "outputs": [],
   "source": [
    "# Importing necessary libraries\n",
    "import pandas as pd\n",
    "import numpy as np\n",
    "import matplotlib.pyplot as plt\n",
    "import seaborn as sns\n",
    "from sklearn.model_selection import train_test_split\n",
    "from sklearn.ensemble import RandomForestClassifier\n",
    "from sklearn.metrics import classification_report, roc_auc_score\n",
    "from sklearn.metrics import accuracy_score, precision_score \n",
    "from sklearn.metrics import recall_score, f1_score\n",
    "from imblearn.over_sampling import SMOTE\n",
    "from imblearn.under_sampling import RandomUnderSampler\n",
    "from imblearn.combine import SMOTEENN\n",
    "from imblearn.under_sampling import TomekLinks\n",
    "from sklearn.utils.class_weight import compute_class_weight "
   ]
  },
  {
   "cell_type": "code",
   "execution_count": 16,
   "id": "466849db-9c26-4411-9603-3688eca7bde5",
   "metadata": {},
   "outputs": [],
   "source": [
    "url= 'newthyroid2.csv'\n",
    "df = pd.read_csv(url) "
   ]
  },
  {
   "cell_type": "code",
   "execution_count": 17,
   "id": "e4a74451-ce1d-4df0-a0f1-e7f2d7fb6dd6",
   "metadata": {},
   "outputs": [
    {
     "data": {
      "text/html": [
       "<div>\n",
       "<style scoped>\n",
       "    .dataframe tbody tr th:only-of-type {\n",
       "        vertical-align: middle;\n",
       "    }\n",
       "\n",
       "    .dataframe tbody tr th {\n",
       "        vertical-align: top;\n",
       "    }\n",
       "\n",
       "    .dataframe thead th {\n",
       "        text-align: right;\n",
       "    }\n",
       "</style>\n",
       "<table border=\"1\" class=\"dataframe\">\n",
       "  <thead>\n",
       "    <tr style=\"text-align: right;\">\n",
       "      <th></th>\n",
       "      <th>T3resin</th>\n",
       "      <th>Thyroxin</th>\n",
       "      <th>Triiodothyronine</th>\n",
       "      <th>Thyroidstimulating</th>\n",
       "      <th>TSH_value</th>\n",
       "      <th>output</th>\n",
       "    </tr>\n",
       "  </thead>\n",
       "  <tbody>\n",
       "    <tr>\n",
       "      <th>0</th>\n",
       "      <td>107</td>\n",
       "      <td>10.1</td>\n",
       "      <td>2.2</td>\n",
       "      <td>0.9</td>\n",
       "      <td>2.7</td>\n",
       "      <td>negative</td>\n",
       "    </tr>\n",
       "    <tr>\n",
       "      <th>1</th>\n",
       "      <td>113</td>\n",
       "      <td>9.9</td>\n",
       "      <td>3.1</td>\n",
       "      <td>2.0</td>\n",
       "      <td>5.9</td>\n",
       "      <td>negative</td>\n",
       "    </tr>\n",
       "    <tr>\n",
       "      <th>2</th>\n",
       "      <td>127</td>\n",
       "      <td>12.9</td>\n",
       "      <td>2.4</td>\n",
       "      <td>1.4</td>\n",
       "      <td>0.6</td>\n",
       "      <td>negative</td>\n",
       "    </tr>\n",
       "    <tr>\n",
       "      <th>3</th>\n",
       "      <td>109</td>\n",
       "      <td>5.3</td>\n",
       "      <td>1.6</td>\n",
       "      <td>1.4</td>\n",
       "      <td>1.5</td>\n",
       "      <td>negative</td>\n",
       "    </tr>\n",
       "    <tr>\n",
       "      <th>4</th>\n",
       "      <td>105</td>\n",
       "      <td>7.3</td>\n",
       "      <td>1.5</td>\n",
       "      <td>1.5</td>\n",
       "      <td>-0.1</td>\n",
       "      <td>negative</td>\n",
       "    </tr>\n",
       "  </tbody>\n",
       "</table>\n",
       "</div>"
      ],
      "text/plain": [
       "   T3resin   Thyroxin   Triiodothyronine   Thyroidstimulating   TSH_value  \\\n",
       "0      107       10.1                2.2                  0.9         2.7   \n",
       "1      113        9.9                3.1                  2.0         5.9   \n",
       "2      127       12.9                2.4                  1.4         0.6   \n",
       "3      109        5.3                1.6                  1.4         1.5   \n",
       "4      105        7.3                1.5                  1.5        -0.1   \n",
       "\n",
       "      output  \n",
       "0   negative  \n",
       "1   negative  \n",
       "2   negative  \n",
       "3   negative  \n",
       "4   negative  "
      ]
     },
     "execution_count": 17,
     "metadata": {},
     "output_type": "execute_result"
    }
   ],
   "source": [
    "df.head()"
   ]
  },
  {
   "cell_type": "code",
   "execution_count": 18,
   "id": "553241b0-e658-4367-abb4-a9b989e29831",
   "metadata": {},
   "outputs": [
    {
     "name": "stdout",
     "output_type": "stream",
     "text": [
      "<class 'pandas.core.frame.DataFrame'>\n",
      "RangeIndex: 215 entries, 0 to 214\n",
      "Data columns (total 6 columns):\n",
      " #   Column               Non-Null Count  Dtype  \n",
      "---  ------               --------------  -----  \n",
      " 0   T3resin              215 non-null    int64  \n",
      " 1    Thyroxin            215 non-null    float64\n",
      " 2    Triiodothyronine    215 non-null    float64\n",
      " 3    Thyroidstimulating  215 non-null    float64\n",
      " 4    TSH_value           215 non-null    float64\n",
      " 5   output               215 non-null    object \n",
      "dtypes: float64(4), int64(1), object(1)\n",
      "memory usage: 10.2+ KB\n",
      "None\n",
      "output\n",
      "negative    180\n",
      "positive     35\n",
      "Name: count, dtype: int64\n"
     ]
    }
   ],
   "source": [
    "import matplotlib.pyplot as plt\n",
    "import seaborn as sns\n",
    "\n",
    "# Display basic information about the dataset\n",
    "print(df.info())\n",
    "print(df['output'].value_counts())"
   ]
  },
  {
   "cell_type": "code",
   "execution_count": 7,
   "id": "1db5e7f6-5d9e-45d2-9b97-d5efdb50f6d2",
   "metadata": {},
   "outputs": [
    {
     "name": "stderr",
     "output_type": "stream",
     "text": [
      "C:\\Users\\mahip\\AppData\\Local\\Temp\\ipykernel_9220\\3873037777.py:3: FutureWarning: \n",
      "\n",
      "Passing `palette` without assigning `hue` is deprecated and will be removed in v0.14.0. Assign the `x` variable to `hue` and set `legend=False` for the same effect.\n",
      "\n",
      "  sns.countplot(x='output', data=df, palette='viridis')\n"
     ]
    },
    {
     "data": {
      "image/png": "[encoded data removed]",
      "text/plain": [
       "<Figure size 600x400 with 1 Axes>"
      ]
     },
     "metadata": {},
     "output_type": "display_data"
    }
   ],
   "source": [
    "# 1. Plot the class distribution to show imbalance\n",
    "plt.figure(figsize=(6, 4))\n",
    "sns.countplot(x='output', data=df, palette='viridis')\n",
    "plt.title('output Distribution in the Dataset')\n",
    "plt.xlabel('output')\n",
    "plt.ylabel('Count')\n",
    "plt.show()"
   ]
  },
  {
   "cell_type": "code",
   "execution_count": 19,
   "id": "1584eef8-9542-49bb-8089-7d8d99b0783b",
   "metadata": {},
   "outputs": [
    {
     "data": {
      "image/png": "[encoded data removed]",
      "text/plain": [
       "<Figure size 600x600 with 1 Axes>"
      ]
     },
     "metadata": {},
     "output_type": "display_data"
    }
   ],
   "source": [
    "# 2. Plot a pie chart to visualize class proportions\n",
    "plt.figure(figsize=(6, 6))\n",
    "class_counts = df['output'].value_counts()\n",
    "plt.pie(class_counts, labels=class_counts.index, autopct='%1.1f%%', startangle=90)\n",
    "plt.title('output Proportion in the Dataset')\n",
    "plt.show()"
   ]
  },
  {
   "cell_type": "code",
   "execution_count": 21,
   "id": "ff246e3e-a8b6-4cd3-8f47-021eb77c5cd8",
   "metadata": {},
   "outputs": [
    {
     "data": {
      "text/html": [
       "<div>\n",
       "<style scoped>\n",
       "    .dataframe tbody tr th:only-of-type {\n",
       "        vertical-align: middle;\n",
       "    }\n",
       "\n",
       "    .dataframe tbody tr th {\n",
       "        vertical-align: top;\n",
       "    }\n",
       "\n",
       "    .dataframe thead th {\n",
       "        text-align: right;\n",
       "    }\n",
       "</style>\n",
       "<table border=\"1\" class=\"dataframe\">\n",
       "  <thead>\n",
       "    <tr style=\"text-align: right;\">\n",
       "      <th></th>\n",
       "      <th>T3resin</th>\n",
       "      <th>Thyroxin</th>\n",
       "      <th>Triiodothyronine</th>\n",
       "      <th>Thyroidstimulating</th>\n",
       "      <th>TSH_value</th>\n",
       "      <th>output</th>\n",
       "    </tr>\n",
       "  </thead>\n",
       "  <tbody>\n",
       "    <tr>\n",
       "      <th>0</th>\n",
       "      <td>107</td>\n",
       "      <td>10.1</td>\n",
       "      <td>2.2</td>\n",
       "      <td>0.9</td>\n",
       "      <td>2.7</td>\n",
       "      <td>negative</td>\n",
       "    </tr>\n",
       "    <tr>\n",
       "      <th>1</th>\n",
       "      <td>113</td>\n",
       "      <td>9.9</td>\n",
       "      <td>3.1</td>\n",
       "      <td>2.0</td>\n",
       "      <td>5.9</td>\n",
       "      <td>negative</td>\n",
       "    </tr>\n",
       "    <tr>\n",
       "      <th>2</th>\n",
       "      <td>127</td>\n",
       "      <td>12.9</td>\n",
       "      <td>2.4</td>\n",
       "      <td>1.4</td>\n",
       "      <td>0.6</td>\n",
       "      <td>negative</td>\n",
       "    </tr>\n",
       "    <tr>\n",
       "      <th>3</th>\n",
       "      <td>109</td>\n",
       "      <td>5.3</td>\n",
       "      <td>1.6</td>\n",
       "      <td>1.4</td>\n",
       "      <td>1.5</td>\n",
       "      <td>negative</td>\n",
       "    </tr>\n",
       "    <tr>\n",
       "      <th>4</th>\n",
       "      <td>105</td>\n",
       "      <td>7.3</td>\n",
       "      <td>1.5</td>\n",
       "      <td>1.5</td>\n",
       "      <td>-0.1</td>\n",
       "      <td>negative</td>\n",
       "    </tr>\n",
       "    <tr>\n",
       "      <th>...</th>\n",
       "      <td>...</td>\n",
       "      <td>...</td>\n",
       "      <td>...</td>\n",
       "      <td>...</td>\n",
       "      <td>...</td>\n",
       "      <td>...</td>\n",
       "    </tr>\n",
       "    <tr>\n",
       "      <th>210</th>\n",
       "      <td>118</td>\n",
       "      <td>6.5</td>\n",
       "      <td>1.3</td>\n",
       "      <td>1.7</td>\n",
       "      <td>11.5</td>\n",
       "      <td>negative</td>\n",
       "    </tr>\n",
       "    <tr>\n",
       "      <th>211</th>\n",
       "      <td>139</td>\n",
       "      <td>4.2</td>\n",
       "      <td>0.7</td>\n",
       "      <td>4.3</td>\n",
       "      <td>6.3</td>\n",
       "      <td>negative</td>\n",
       "    </tr>\n",
       "    <tr>\n",
       "      <th>212</th>\n",
       "      <td>103</td>\n",
       "      <td>5.1</td>\n",
       "      <td>1.4</td>\n",
       "      <td>1.2</td>\n",
       "      <td>5.0</td>\n",
       "      <td>negative</td>\n",
       "    </tr>\n",
       "    <tr>\n",
       "      <th>213</th>\n",
       "      <td>97</td>\n",
       "      <td>4.7</td>\n",
       "      <td>1.1</td>\n",
       "      <td>2.1</td>\n",
       "      <td>12.6</td>\n",
       "      <td>negative</td>\n",
       "    </tr>\n",
       "    <tr>\n",
       "      <th>214</th>\n",
       "      <td>102</td>\n",
       "      <td>5.3</td>\n",
       "      <td>1.4</td>\n",
       "      <td>1.3</td>\n",
       "      <td>6.7</td>\n",
       "      <td>negative</td>\n",
       "    </tr>\n",
       "  </tbody>\n",
       "</table>\n",
       "<p>215 rows × 6 columns</p>\n",
       "</div>"
      ],
      "text/plain": [
       "     T3resin   Thyroxin   Triiodothyronine   Thyroidstimulating   TSH_value  \\\n",
       "0        107       10.1                2.2                  0.9         2.7   \n",
       "1        113        9.9                3.1                  2.0         5.9   \n",
       "2        127       12.9                2.4                  1.4         0.6   \n",
       "3        109        5.3                1.6                  1.4         1.5   \n",
       "4        105        7.3                1.5                  1.5        -0.1   \n",
       "..       ...        ...                ...                  ...         ...   \n",
       "210      118        6.5                1.3                  1.7        11.5   \n",
       "211      139        4.2                0.7                  4.3         6.3   \n",
       "212      103        5.1                1.4                  1.2         5.0   \n",
       "213       97        4.7                1.1                  2.1        12.6   \n",
       "214      102        5.3                1.4                  1.3         6.7   \n",
       "\n",
       "        output  \n",
       "0     negative  \n",
       "1     negative  \n",
       "2     negative  \n",
       "3     negative  \n",
       "4     negative  \n",
       "..         ...  \n",
       "210   negative  \n",
       "211   negative  \n",
       "212   negative  \n",
       "213   negative  \n",
       "214   negative  \n",
       "\n",
       "[215 rows x 6 columns]"
      ]
     },
     "execution_count": 21,
     "metadata": {},
     "output_type": "execute_result"
    }
   ],
   "source": [
    "df"
   ]
  },
  {
   "cell_type": "code",
   "execution_count": 22,
   "id": "d1e213e4-2450-41f3-b650-aa559c81b64c",
   "metadata": {},
   "outputs": [],
   "source": [
    "# Features and Target\n",
    "X = df.drop('output', axis=1)\n",
    "y = df['output']\n",
    "\n",
    "# Train-Test Split\n",
    "X_train, X_test, y_train, y_test = train_test_split(X, y, test_size=0.3, random_state=42, stratify=y)"
   ]
  },
  {
   "cell_type": "code",
   "execution_count": 34,
   "id": "7f02f952-1156-4fdc-b8a6-a2f18e644454",
   "metadata": {},
   "outputs": [
    {
     "data": {
      "text/plain": [
       "(65,)"
      ]
     },
     "execution_count": 34,
     "metadata": {},
     "output_type": "execute_result"
    }
   ],
   "source": [
    "y_test.shape"
   ]
  },
  {
   "cell_type": "code",
   "execution_count": 26,
   "id": "59a28652-e97f-40d0-9586-dbcfc740040c",
   "metadata": {},
   "outputs": [],
   "source": [
    "# Random Under Sampling\n",
    "rus = RandomUnderSampler(random_state=42)\n",
    "X_rus, y_rus = rus.fit_resample(X_train, y_train) "
   ]
  },
  {
   "cell_type": "code",
   "execution_count": 27,
   "id": "29afe332-ab48-4ce5-89f6-83839833399c",
   "metadata": {},
   "outputs": [],
   "source": [
    "# Random Over Sampling\n",
    "from imblearn.over_sampling import RandomOverSampler\n",
    "ros = RandomOverSampler(random_state=42)\n",
    "X_ros, y_ros = ros.fit_resample(X_train, y_train) "
   ]
  },
  {
   "cell_type": "code",
   "execution_count": 28,
   "id": "1ac83cef-b56a-4282-b004-9e2e12562147",
   "metadata": {},
   "outputs": [],
   "source": [
    "# SMOTE\n",
    "smote = SMOTE(random_state=42)\n",
    "X_smote, y_smote = smote.fit_resample(X_train, y_train) "
   ]
  },
  {
   "cell_type": "code",
   "execution_count": 29,
   "id": "18fa000a-b993-45f3-af84-f7ca61b1df2a",
   "metadata": {},
   "outputs": [],
   "source": [
    "# Tomek Links\n",
    "tl = TomekLinks()\n",
    "X_tl, y_tl = tl.fit_resample(X_train, y_train) "
   ]
  },
  {
   "cell_type": "code",
   "execution_count": 30,
   "id": "f6a71a32-7166-47a2-9cb8-01427720f84a",
   "metadata": {},
   "outputs": [],
   "source": [
    "# Class Weights\n",
    "class_weights = compute_class_weight(class_weight='balanced', classes=np.unique(y_train), y=y_train)\n",
    "class_weights_dict = dict(zip(np.unique(y_train), class_weights))"
   ]
  },
  {
   "cell_type": "code",
   "execution_count": 51,
   "id": "2982bf70-a185-4c77-9be0-3b350eda346f",
   "metadata": {},
   "outputs": [],
   "source": [
    "# Function to evaluate model performance\n",
    "def evaluate_model(X_train, y_train, X_test, y_test, class_weights=None):\n",
    "    model = RandomForestClassifier(class_weight=class_weights, random_state=42)\n",
    "    model.fit(X_train, y_train)\n",
    "    y_pred = model.predict(X_test)\n",
    "    y_prob = model.predict_proba(X_test)[:, 1]\n",
    "    \n",
    "    print(classification_report(y_test, y_pred))\n",
    "    print(\"AUC:\", roc_auc_score(y_test, y_prob)) \n",
    "    return {\n",
    "        'Accuracy': accuracy_score(y_test, y_pred),\n",
    "        'Precision': precision_score(y_test, y_pred, average='weighted', zero_division=0),\n",
    "        'Recall': recall_score(y_test, y_pred, average='weighted', zero_division=0),\n",
    "        'F1-Score': f1_score(y_test, y_pred, average='weighted', zero_division=0),\n",
    "        'AUC': roc_auc_score(y_test, y_prob, multi_class='ovr', average='weighted')\n",
    "    }"
   ]
  },
  {
   "cell_type": "code",
   "execution_count": 52,
   "id": "63b8a991-816d-4a1a-ba4b-37f416bcc758",
   "metadata": {},
   "outputs": [
    {
     "name": "stdout",
     "output_type": "stream",
     "text": [
      "Random Undersampling:\n",
      "              precision    recall  f1-score   support\n",
      "\n",
      "    negative       1.00      0.94      0.97        54\n",
      "    positive       0.79      1.00      0.88        11\n",
      "\n",
      "    accuracy                           0.95        65\n",
      "   macro avg       0.89      0.97      0.93        65\n",
      "weighted avg       0.96      0.95      0.96        65\n",
      "\n",
      "AUC: 0.9966329966329966\n",
      "\n",
      "Random Oversampling:\n",
      "              precision    recall  f1-score   support\n",
      "\n",
      "    negative       0.98      1.00      0.99        54\n",
      "    positive       1.00      0.91      0.95        11\n",
      "\n",
      "    accuracy                           0.98        65\n",
      "   macro avg       0.99      0.95      0.97        65\n",
      "weighted avg       0.98      0.98      0.98        65\n",
      "\n",
      "AUC: 0.9966329966329965\n",
      "\n",
      "SMOTE:\n",
      "              precision    recall  f1-score   support\n",
      "\n",
      "    negative       0.98      0.98      0.98        54\n",
      "    positive       0.91      0.91      0.91        11\n",
      "\n",
      "    accuracy                           0.97        65\n",
      "   macro avg       0.95      0.95      0.95        65\n",
      "weighted avg       0.97      0.97      0.97        65\n",
      "\n",
      "AUC: 0.9949494949494949\n",
      "\n",
      "Tomek Links:\n",
      "              precision    recall  f1-score   support\n",
      "\n",
      "    negative       0.98      0.98      0.98        54\n",
      "    positive       0.91      0.91      0.91        11\n",
      "\n",
      "    accuracy                           0.97        65\n",
      "   macro avg       0.95      0.95      0.95        65\n",
      "weighted avg       0.97      0.97      0.97        65\n",
      "\n",
      "AUC: 0.9924242424242424\n",
      "\n",
      "Class Weights:\n",
      "              precision    recall  f1-score   support\n",
      "\n",
      "    negative       0.96      1.00      0.98        54\n",
      "    positive       1.00      0.82      0.90        11\n",
      "\n",
      "    accuracy                           0.97        65\n",
      "   macro avg       0.98      0.91      0.94        65\n",
      "weighted avg       0.97      0.97      0.97        65\n",
      "\n",
      "AUC: 0.9966329966329966\n"
     ]
    },
    {
     "data": {
      "text/plain": [
       "{'Accuracy': 0.9692307692307692,\n",
       " 'Precision': 0.9703296703296703,\n",
       " 'Recall': 0.9692307692307692,\n",
       " 'F1-Score': 0.9679720279720279,\n",
       " 'AUC': np.float64(0.9966329966329966)}"
      ]
     },
     "execution_count": 52,
     "metadata": {},
     "output_type": "execute_result"
    }
   ],
   "source": [
    "# Evaluate each sampling technique\n",
    "print(\"Random Undersampling:\")\n",
    "evaluate_model(X_rus, y_rus, X_test, y_test)\n",
    "\n",
    "print(\"\\nRandom Oversampling:\")\n",
    "evaluate_model(X_ros, y_ros, X_test, y_test)\n",
    "\n",
    "print(\"\\nSMOTE:\")\n",
    "evaluate_model(X_smote, y_smote, X_test, y_test)\n",
    "\n",
    "print(\"\\nTomek Links:\")\n",
    "evaluate_model(X_tl, y_tl, X_test, y_test)\n",
    "\n",
    "print(\"\\nClass Weights:\")\n",
    "evaluate_model(X_train, y_train, X_test, y_test, class_weights_dict) "
   ]
  },
  {
   "cell_type": "code",
   "execution_count": 53,
   "id": "eb2bc566-3874-496a-969d-9e4a162beee0",
   "metadata": {},
   "outputs": [],
   "source": [
    "# Combine X and y for each sampling method\n",
    "df_rus = pd.concat([X_rus, y_rus], axis=1)\n",
    "df_ros = pd.concat([X_ros, y_ros], axis=1)\n",
    "df_smote = pd.concat([X_smote, y_smote], axis=1)\n",
    "df_tl = pd.concat([X_tl, y_tl], axis=1)\n",
    "\n",
    "# Save to CSV\n",
    "df_rus.to_csv('Random_Undersampling_Balanced.csv', index=False)\n",
    "df_ros.to_csv('Random_Oversampling_Balanced.csv', index=False)\n",
    "df_smote.to_csv('SMOTE_Balanced.csv', index=False)\n",
    "df_tl.to_csv('TOMEK_Links_balanced.csv', index=False)"
   ]
  },
  {
   "cell_type": "code",
   "execution_count": 54,
   "id": "f395d54d-3a06-450e-bfc1-2c58cfe46beb",
   "metadata": {},
   "outputs": [],
   "source": [
    "samplers = {\n",
    "    'Random Undersampling': RandomUnderSampler(random_state=42),\n",
    "    'Random Oversampling': RandomOverSampler(random_state=42),\n",
    "    'SMOTE': SMOTE(random_state=42),\n",
    "    'Tomek Links': TomekLinks()\n",
    "}"
   ]
  },
  {
   "cell_type": "code",
   "execution_count": 55,
   "id": "00943eff-2c3a-4e28-af18-a4902ea01ad7",
   "metadata": {},
   "outputs": [
    {
     "name": "stdout",
     "output_type": "stream",
     "text": [
      "              precision    recall  f1-score   support\n",
      "\n",
      "    negative       1.00      0.94      0.97        54\n",
      "    positive       0.79      1.00      0.88        11\n",
      "\n",
      "    accuracy                           0.95        65\n",
      "   macro avg       0.89      0.97      0.93        65\n",
      "weighted avg       0.96      0.95      0.96        65\n",
      "\n",
      "AUC: 0.9966329966329966\n",
      "              precision    recall  f1-score   support\n",
      "\n",
      "    negative       0.98      1.00      0.99        54\n",
      "    positive       1.00      0.91      0.95        11\n",
      "\n",
      "    accuracy                           0.98        65\n",
      "   macro avg       0.99      0.95      0.97        65\n",
      "weighted avg       0.98      0.98      0.98        65\n",
      "\n",
      "AUC: 0.9966329966329965\n",
      "              precision    recall  f1-score   support\n",
      "\n",
      "    negative       0.98      0.98      0.98        54\n",
      "    positive       0.91      0.91      0.91        11\n",
      "\n",
      "    accuracy                           0.97        65\n",
      "   macro avg       0.95      0.95      0.95        65\n",
      "weighted avg       0.97      0.97      0.97        65\n",
      "\n",
      "AUC: 0.9949494949494949\n",
      "              precision    recall  f1-score   support\n",
      "\n",
      "    negative       0.98      0.98      0.98        54\n",
      "    positive       0.91      0.91      0.91        11\n",
      "\n",
      "    accuracy                           0.97        65\n",
      "   macro avg       0.95      0.95      0.95        65\n",
      "weighted avg       0.97      0.97      0.97        65\n",
      "\n",
      "AUC: 0.9924242424242424\n",
      "              precision    recall  f1-score   support\n",
      "\n",
      "    negative       0.96      1.00      0.98        54\n",
      "    positive       1.00      0.82      0.90        11\n",
      "\n",
      "    accuracy                           0.97        65\n",
      "   macro avg       0.98      0.91      0.94        65\n",
      "weighted avg       0.97      0.97      0.97        65\n",
      "\n",
      "AUC: 0.9966329966329966\n",
      "\n",
      "Comparison Table of Model Performance:\n",
      "\n",
      "                      Accuracy  Precision    Recall  F1-Score       AUC\n",
      "Random Undersampling  0.953846   0.963736  0.953846  0.955956  0.996633\n",
      "Random Oversampling   0.984615   0.984895  0.984615  0.984320  0.996633\n",
      "SMOTE                 0.969231   0.969231  0.969231  0.969231  0.994949\n",
      "Tomek Links           0.969231   0.969231  0.969231  0.969231  0.992424\n",
      "Class Weights         0.969231   0.970330  0.969231  0.967972  0.996633\n"
     ]
    }
   ],
   "source": [
    "results = {}\n",
    "\n",
    "for name, sampler in samplers.items():\n",
    "    X_res, y_res = sampler.fit_resample(X_train, y_train)\n",
    "    result = evaluate_model(X_res, y_res, X_test, y_test)\n",
    "    results[name] = result\n",
    "    # Save balanced datasets\n",
    "    balanced_df = pd.concat([X_res, y_res], axis=1)\n",
    "    balanced_df.to_csv(f'{name.replace(\" \", \"_\")}_Balanced.csv', index=False)\n",
    "\n",
    "# Evaluate Class Weight Method\n",
    "results['Class Weights'] = evaluate_model(X_train, y_train, X_test, y_test, class_weights_dict)\n",
    "\n",
    "# Store Results in DataFrame\n",
    "comparison_df = pd.DataFrame(results).T\n",
    "print(\"\\nComparison Table of Model Performance:\\n\")\n",
    "print(comparison_df)\n",
    "\n",
    "# Save Comparison Table\n",
    "comparison_df.to_csv('Sampling_Techniques_Comparison.csv')"
   ]
  },
  {
   "cell_type": "code",
   "execution_count": null,
   "id": "6556f1f7-a1da-420e-84a5-1fda28ea62b3",
   "metadata": {},
   "outputs": [],
   "source": []
  }
 ],
 "metadata": {
  "kernelspec": {
   "display_name": "Python 3 (ipykernel)",
   "language": "python",
   "name": "python3"
  },
  "language_info": {
   "codemirror_mode": {
    "name": "ipython",
    "version": 3
   },
   "file_extension": ".py",
   "mimetype": "text/x-python",
   "name": "python",
   "nbconvert_exporter": "python",
   "pygments_lexer": "ipython3",
   "version": "3.12.6"
  }
 },
 "nbformat": 4,
 "nbformat_minor": 5
}
